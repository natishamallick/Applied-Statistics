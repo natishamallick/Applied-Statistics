{
 "cells": [
  {
   "cell_type": "markdown",
   "id": "20f8b856",
   "metadata": {},
   "source": [
    "### Natisha Mallick- EC22373 \n",
    "## Lab 1 Assignment "
   ]
  },
  {
   "cell_type": "markdown",
   "id": "cf07a933",
   "metadata": {},
   "source": [
    "### Importing the required libraries to load the dataset "
   ]
  },
  {
   "cell_type": "code",
   "execution_count": 1,
   "id": "e686809b",
   "metadata": {},
   "outputs": [],
   "source": [
    "import pandas as pd"
   ]
  },
  {
   "cell_type": "markdown",
   "id": "b2602de0",
   "metadata": {},
   "source": [
    "### Exercise 1: Loading the Dataset from the URL"
   ]
  },
  {
   "cell_type": "code",
   "execution_count": 2,
   "id": "6ac4ee67",
   "metadata": {},
   "outputs": [],
   "source": [
    "url=\"http://data.un.org/_Docs/SYB/CSV/SYB64_246_202110_Population%20Growth,%20Fertility%20and%20Mortality%20Indicators.csv\"\n",
    "df=pd.read_csv(url, encoding=\"latin-1\", skiprows=1)"
   ]
  },
  {
   "cell_type": "code",
   "execution_count": 3,
   "id": "1fe95197",
   "metadata": {
    "scrolled": true
   },
   "outputs": [
    {
     "data": {
      "text/html": [
       "<div>\n",
       "<style scoped>\n",
       "    .dataframe tbody tr th:only-of-type {\n",
       "        vertical-align: middle;\n",
       "    }\n",
       "\n",
       "    .dataframe tbody tr th {\n",
       "        vertical-align: top;\n",
       "    }\n",
       "\n",
       "    .dataframe thead th {\n",
       "        text-align: right;\n",
       "    }\n",
       "</style>\n",
       "<table border=\"1\" class=\"dataframe\">\n",
       "  <thead>\n",
       "    <tr style=\"text-align: right;\">\n",
       "      <th></th>\n",
       "      <th>Region/Country/Area</th>\n",
       "      <th>Unnamed: 1</th>\n",
       "      <th>Year</th>\n",
       "      <th>Series</th>\n",
       "      <th>Value</th>\n",
       "      <th>Footnotes</th>\n",
       "      <th>Source</th>\n",
       "    </tr>\n",
       "  </thead>\n",
       "  <tbody>\n",
       "    <tr>\n",
       "      <th>0</th>\n",
       "      <td>1</td>\n",
       "      <td>Total, all countries or areas</td>\n",
       "      <td>2010</td>\n",
       "      <td>Population annual rate of increase (percent)</td>\n",
       "      <td>1.2</td>\n",
       "      <td>Data refers to a 5-year period preceding the r...</td>\n",
       "      <td>United Nations Population Division, New York, ...</td>\n",
       "    </tr>\n",
       "    <tr>\n",
       "      <th>1</th>\n",
       "      <td>1</td>\n",
       "      <td>Total, all countries or areas</td>\n",
       "      <td>2010</td>\n",
       "      <td>Total fertility rate (children per women)</td>\n",
       "      <td>2.6</td>\n",
       "      <td>Data refers to a 5-year period preceding the r...</td>\n",
       "      <td>United Nations Population Division, New York, ...</td>\n",
       "    </tr>\n",
       "    <tr>\n",
       "      <th>2</th>\n",
       "      <td>1</td>\n",
       "      <td>Total, all countries or areas</td>\n",
       "      <td>2010</td>\n",
       "      <td>Infant mortality for both sexes (per 1,000 liv...</td>\n",
       "      <td>41.0</td>\n",
       "      <td>Data refers to a 5-year period preceding the r...</td>\n",
       "      <td>United Nations Statistics Division, New York, ...</td>\n",
       "    </tr>\n",
       "    <tr>\n",
       "      <th>3</th>\n",
       "      <td>1</td>\n",
       "      <td>Total, all countries or areas</td>\n",
       "      <td>2010</td>\n",
       "      <td>Maternal mortality ratio (deaths per 100,000 p...</td>\n",
       "      <td>248</td>\n",
       "      <td>NaN</td>\n",
       "      <td>World Health Organization (WHO), the United Na...</td>\n",
       "    </tr>\n",
       "    <tr>\n",
       "      <th>4</th>\n",
       "      <td>1</td>\n",
       "      <td>Total, all countries or areas</td>\n",
       "      <td>2010</td>\n",
       "      <td>Life expectancy at birth for both sexes (years)</td>\n",
       "      <td>68.9</td>\n",
       "      <td>Data refers to a 5-year period preceding the r...</td>\n",
       "      <td>United Nations Population Division, New York, ...</td>\n",
       "    </tr>\n",
       "  </tbody>\n",
       "</table>\n",
       "</div>"
      ],
      "text/plain": [
       "   Region/Country/Area                     Unnamed: 1  Year  \\\n",
       "0                    1  Total, all countries or areas  2010   \n",
       "1                    1  Total, all countries or areas  2010   \n",
       "2                    1  Total, all countries or areas  2010   \n",
       "3                    1  Total, all countries or areas  2010   \n",
       "4                    1  Total, all countries or areas  2010   \n",
       "\n",
       "                                              Series Value  \\\n",
       "0       Population annual rate of increase (percent)   1.2   \n",
       "1          Total fertility rate (children per women)   2.6   \n",
       "2  Infant mortality for both sexes (per 1,000 liv...  41.0   \n",
       "3  Maternal mortality ratio (deaths per 100,000 p...   248   \n",
       "4    Life expectancy at birth for both sexes (years)  68.9   \n",
       "\n",
       "                                           Footnotes  \\\n",
       "0  Data refers to a 5-year period preceding the r...   \n",
       "1  Data refers to a 5-year period preceding the r...   \n",
       "2  Data refers to a 5-year period preceding the r...   \n",
       "3                                                NaN   \n",
       "4  Data refers to a 5-year period preceding the r...   \n",
       "\n",
       "                                              Source  \n",
       "0  United Nations Population Division, New York, ...  \n",
       "1  United Nations Population Division, New York, ...  \n",
       "2  United Nations Statistics Division, New York, ...  \n",
       "3  World Health Organization (WHO), the United Na...  \n",
       "4  United Nations Population Division, New York, ...  "
      ]
     },
     "execution_count": 3,
     "metadata": {},
     "output_type": "execute_result"
    }
   ],
   "source": [
    "df.head()"
   ]
  },
  {
   "cell_type": "code",
   "execution_count": 4,
   "id": "a26b7797",
   "metadata": {},
   "outputs": [
    {
     "data": {
      "text/plain": [
       "(4899, 7)"
      ]
     },
     "execution_count": 4,
     "metadata": {},
     "output_type": "execute_result"
    }
   ],
   "source": [
    "df.shape\n",
    "## the shape feature shows us the rows x columns in the whole dataset"
   ]
  },
  {
   "cell_type": "markdown",
   "id": "05b6581f",
   "metadata": {},
   "source": [
    "### Exercise 2: Selecting only the countries data from the dataset "
   ]
  },
  {
   "cell_type": "code",
   "execution_count": 5,
   "id": "53954382",
   "metadata": {},
   "outputs": [],
   "source": [
    "df_new = df.iloc[624:4900]"
   ]
  },
  {
   "cell_type": "markdown",
   "id": "43e04093",
   "metadata": {},
   "source": [
    "#### Selecting the life expectancy at birth data for both sexes "
   ]
  },
  {
   "cell_type": "code",
   "execution_count": 6,
   "id": "1d7d4741",
   "metadata": {},
   "outputs": [],
   "source": [
    "df_new1 = df_new.loc[df['Series']=='Life expectancy at birth for both sexes (years)']\n",
    "## a new dataframe df_new1 is created to save the values from the life expectancy at birth for both sexes "
   ]
  },
  {
   "cell_type": "code",
   "execution_count": 7,
   "id": "bae1eee2",
   "metadata": {},
   "outputs": [
    {
     "data": {
      "text/html": [
       "<div>\n",
       "<style scoped>\n",
       "    .dataframe tbody tr th:only-of-type {\n",
       "        vertical-align: middle;\n",
       "    }\n",
       "\n",
       "    .dataframe tbody tr th {\n",
       "        vertical-align: top;\n",
       "    }\n",
       "\n",
       "    .dataframe thead th {\n",
       "        text-align: right;\n",
       "    }\n",
       "</style>\n",
       "<table border=\"1\" class=\"dataframe\">\n",
       "  <thead>\n",
       "    <tr style=\"text-align: right;\">\n",
       "      <th></th>\n",
       "      <th>Region/Country/Area</th>\n",
       "      <th>Unnamed: 1</th>\n",
       "      <th>Year</th>\n",
       "      <th>Series</th>\n",
       "      <th>Value</th>\n",
       "      <th>Footnotes</th>\n",
       "      <th>Source</th>\n",
       "    </tr>\n",
       "  </thead>\n",
       "  <tbody>\n",
       "    <tr>\n",
       "      <th>628</th>\n",
       "      <td>4</td>\n",
       "      <td>Afghanistan</td>\n",
       "      <td>2010</td>\n",
       "      <td>Life expectancy at birth for both sexes (years)</td>\n",
       "      <td>59.6</td>\n",
       "      <td>Data refers to a 5-year period preceding the r...</td>\n",
       "      <td>United Nations Population Division, New York, ...</td>\n",
       "    </tr>\n",
       "    <tr>\n",
       "      <th>635</th>\n",
       "      <td>4</td>\n",
       "      <td>Afghanistan</td>\n",
       "      <td>2015</td>\n",
       "      <td>Life expectancy at birth for both sexes (years)</td>\n",
       "      <td>62.3</td>\n",
       "      <td>Data refers to a 5-year period preceding the r...</td>\n",
       "      <td>United Nations Population Division, New York, ...</td>\n",
       "    </tr>\n",
       "    <tr>\n",
       "      <th>642</th>\n",
       "      <td>4</td>\n",
       "      <td>Afghanistan</td>\n",
       "      <td>2020</td>\n",
       "      <td>Life expectancy at birth for both sexes (years)</td>\n",
       "      <td>64.3</td>\n",
       "      <td>Data refers to a 5-year period preceding the r...</td>\n",
       "      <td>United Nations Population Division, New York, ...</td>\n",
       "    </tr>\n",
       "    <tr>\n",
       "      <th>649</th>\n",
       "      <td>8</td>\n",
       "      <td>Albania</td>\n",
       "      <td>2010</td>\n",
       "      <td>Life expectancy at birth for both sexes (years)</td>\n",
       "      <td>75.6</td>\n",
       "      <td>Data refers to a 5-year period preceding the r...</td>\n",
       "      <td>United Nations Population Division, New York, ...</td>\n",
       "    </tr>\n",
       "    <tr>\n",
       "      <th>656</th>\n",
       "      <td>8</td>\n",
       "      <td>Albania</td>\n",
       "      <td>2015</td>\n",
       "      <td>Life expectancy at birth for both sexes (years)</td>\n",
       "      <td>77.5</td>\n",
       "      <td>Data refers to a 5-year period preceding the r...</td>\n",
       "      <td>United Nations Population Division, New York, ...</td>\n",
       "    </tr>\n",
       "    <tr>\n",
       "      <th>663</th>\n",
       "      <td>8</td>\n",
       "      <td>Albania</td>\n",
       "      <td>2020</td>\n",
       "      <td>Life expectancy at birth for both sexes (years)</td>\n",
       "      <td>78.4</td>\n",
       "      <td>Data refers to a 5-year period preceding the r...</td>\n",
       "      <td>United Nations Population Division, New York, ...</td>\n",
       "    </tr>\n",
       "    <tr>\n",
       "      <th>670</th>\n",
       "      <td>12</td>\n",
       "      <td>Algeria</td>\n",
       "      <td>2010</td>\n",
       "      <td>Life expectancy at birth for both sexes (years)</td>\n",
       "      <td>74.2</td>\n",
       "      <td>Data refers to a 5-year period preceding the r...</td>\n",
       "      <td>United Nations Population Division, New York, ...</td>\n",
       "    </tr>\n",
       "    <tr>\n",
       "      <th>677</th>\n",
       "      <td>12</td>\n",
       "      <td>Algeria</td>\n",
       "      <td>2015</td>\n",
       "      <td>Life expectancy at birth for both sexes (years)</td>\n",
       "      <td>75.5</td>\n",
       "      <td>Data refers to a 5-year period preceding the r...</td>\n",
       "      <td>United Nations Population Division, New York, ...</td>\n",
       "    </tr>\n",
       "    <tr>\n",
       "      <th>684</th>\n",
       "      <td>12</td>\n",
       "      <td>Algeria</td>\n",
       "      <td>2020</td>\n",
       "      <td>Life expectancy at birth for both sexes (years)</td>\n",
       "      <td>76.6</td>\n",
       "      <td>Data refers to a 5-year period preceding the r...</td>\n",
       "      <td>United Nations Population Division, New York, ...</td>\n",
       "    </tr>\n",
       "    <tr>\n",
       "      <th>697</th>\n",
       "      <td>24</td>\n",
       "      <td>Angola</td>\n",
       "      <td>2010</td>\n",
       "      <td>Life expectancy at birth for both sexes (years)</td>\n",
       "      <td>52.7</td>\n",
       "      <td>Data refers to a 5-year period preceding the r...</td>\n",
       "      <td>United Nations Population Division, New York, ...</td>\n",
       "    </tr>\n",
       "  </tbody>\n",
       "</table>\n",
       "</div>"
      ],
      "text/plain": [
       "     Region/Country/Area   Unnamed: 1  Year  \\\n",
       "628                    4  Afghanistan  2010   \n",
       "635                    4  Afghanistan  2015   \n",
       "642                    4  Afghanistan  2020   \n",
       "649                    8      Albania  2010   \n",
       "656                    8      Albania  2015   \n",
       "663                    8      Albania  2020   \n",
       "670                   12      Algeria  2010   \n",
       "677                   12      Algeria  2015   \n",
       "684                   12      Algeria  2020   \n",
       "697                   24       Angola  2010   \n",
       "\n",
       "                                              Series Value  \\\n",
       "628  Life expectancy at birth for both sexes (years)  59.6   \n",
       "635  Life expectancy at birth for both sexes (years)  62.3   \n",
       "642  Life expectancy at birth for both sexes (years)  64.3   \n",
       "649  Life expectancy at birth for both sexes (years)  75.6   \n",
       "656  Life expectancy at birth for both sexes (years)  77.5   \n",
       "663  Life expectancy at birth for both sexes (years)  78.4   \n",
       "670  Life expectancy at birth for both sexes (years)  74.2   \n",
       "677  Life expectancy at birth for both sexes (years)  75.5   \n",
       "684  Life expectancy at birth for both sexes (years)  76.6   \n",
       "697  Life expectancy at birth for both sexes (years)  52.7   \n",
       "\n",
       "                                             Footnotes  \\\n",
       "628  Data refers to a 5-year period preceding the r...   \n",
       "635  Data refers to a 5-year period preceding the r...   \n",
       "642  Data refers to a 5-year period preceding the r...   \n",
       "649  Data refers to a 5-year period preceding the r...   \n",
       "656  Data refers to a 5-year period preceding the r...   \n",
       "663  Data refers to a 5-year period preceding the r...   \n",
       "670  Data refers to a 5-year period preceding the r...   \n",
       "677  Data refers to a 5-year period preceding the r...   \n",
       "684  Data refers to a 5-year period preceding the r...   \n",
       "697  Data refers to a 5-year period preceding the r...   \n",
       "\n",
       "                                                Source  \n",
       "628  United Nations Population Division, New York, ...  \n",
       "635  United Nations Population Division, New York, ...  \n",
       "642  United Nations Population Division, New York, ...  \n",
       "649  United Nations Population Division, New York, ...  \n",
       "656  United Nations Population Division, New York, ...  \n",
       "663  United Nations Population Division, New York, ...  \n",
       "670  United Nations Population Division, New York, ...  \n",
       "677  United Nations Population Division, New York, ...  \n",
       "684  United Nations Population Division, New York, ...  \n",
       "697  United Nations Population Division, New York, ...  "
      ]
     },
     "execution_count": 7,
     "metadata": {},
     "output_type": "execute_result"
    }
   ],
   "source": [
    "df_new1.head(10)\n",
    "## shows the first 10 column of the new data set with the life expectancy at birth for both sexes "
   ]
  },
  {
   "cell_type": "markdown",
   "id": "b1de17ee",
   "metadata": {},
   "source": [
    " #### Converting the dataset into Numpy Array"
   ]
  },
  {
   "cell_type": "code",
   "execution_count": 8,
   "id": "f1cce3dd",
   "metadata": {},
   "outputs": [],
   "source": [
    "np_1 = df_new1.to_numpy()\n",
    "##the dataframe df_new1 is being converted to numpy and saved as np_1\n"
   ]
  },
  {
   "cell_type": "markdown",
   "id": "5d097ed6",
   "metadata": {},
   "source": [
    "#### Finding the size of the array "
   ]
  },
  {
   "cell_type": "code",
   "execution_count": 9,
   "id": "e16f43d8",
   "metadata": {
    "scrolled": false
   },
   "outputs": [
    {
     "data": {
      "text/plain": [
       "603"
      ]
     },
     "execution_count": 9,
     "metadata": {},
     "output_type": "execute_result"
    }
   ],
   "source": [
    "len(np_1)"
   ]
  },
  {
   "cell_type": "markdown",
   "id": "8d2c0f86",
   "metadata": {},
   "source": [
    "#### The size of the array is 603"
   ]
  },
  {
   "cell_type": "code",
   "execution_count": 10,
   "id": "a240d095",
   "metadata": {},
   "outputs": [],
   "source": [
    "import numpy as np"
   ]
  },
  {
   "cell_type": "code",
   "execution_count": 11,
   "id": "5ac72e00",
   "metadata": {},
   "outputs": [],
   "source": [
    "np_1 = df_new1[\"Value\"].to_numpy().astype(float)\n",
    "np_new = df_new1.to_numpy()"
   ]
  },
  {
   "cell_type": "code",
   "execution_count": 12,
   "id": "cca61035",
   "metadata": {},
   "outputs": [
    {
     "name": "stdout",
     "output_type": "stream",
     "text": [
      "71.18275290215588\n",
      "73.1\n"
     ]
    }
   ],
   "source": [
    "np_1  ## The array np_1 reads out all the values stored in the array\n",
    "\n",
    "import numpy as np \n",
    "np.set_printoptions(precision=3)\n",
    "\n",
    "mean=np_1.mean()\n",
    "print(mean)\n",
    "\n",
    "median= np.median(np_1)\n",
    "print(median)"
   ]
  },
  {
   "cell_type": "markdown",
   "id": "8988478c",
   "metadata": {},
   "source": [
    "### Exercise 3: Plotting a Histogram "
   ]
  },
  {
   "cell_type": "code",
   "execution_count": 13,
   "id": "3de37be7",
   "metadata": {
    "scrolled": true
   },
   "outputs": [
    {
     "data": {
      "text/plain": [
       "Text(0, 0.5, '\\nCount')"
      ]
     },
     "execution_count": 13,
     "metadata": {},
     "output_type": "execute_result"
    },
    {
     "data": {
      "image/png": "[encoded data removed]",
      "text/plain": [
       "<Figure size 432x288 with 1 Axes>"
      ]
     },
     "metadata": {
      "needs_background": "light"
     },
     "output_type": "display_data"
    }
   ],
   "source": [
    "import matplotlib.pyplot as plt\n",
    "import numpy as np \n",
    "np.set_printoptions(precision=3)\n",
    "\n",
    "bins=[30,40, 50,60,70,80,90,100]\n",
    "hist = plt.hist(np_1, bins=bins,  color='grey', edgecolor='k', alpha=0.45)\n",
    "\n",
    "plt.axvline(np_1.mean(), color='blue', linestyle='solid', linewidth=1.2)\n",
    "plt.text(63,165, 'mean',rotation=0, color='blue')\n",
    "plt.text(63,152, '71.18',rotation=0, color='blue')\n",
    "\n",
    "\n",
    "plt.axvline(np.median(np_1), color='red', linestyle='solid', linewidth=1.2)\n",
    "plt.text(74, 170, 'median',rotation=0, color='red')\n",
    "plt.text(74,153, '73.1',rotation=0, color='red')\n",
    "\n",
    "\n",
    "plt.xticks(bins)\n",
    "plt.title(\"Distribution of Life Expectancy for both sexes across countries\\n\")\n",
    "plt.xlabel(\"\\nLife Expectancy in Ages\")\n",
    "plt.ylabel(\"\\nCount\")\n",
    "\n"
   ]
  },
  {
   "cell_type": "markdown",
   "id": "54f3b1ce",
   "metadata": {},
   "source": [
    "#### What the mean & median tell us about the distribution of the data"
   ]
  },
  {
   "cell_type": "markdown",
   "id": "c00864e9",
   "metadata": {},
   "source": [
    "The mean which is on the left of the median line, in cases where the mean lies on the left of the median  the distribution of the data is considered skewed to the left ie. it is negatively skewed. \n",
    "\n",
    "But since the data is for the life expectancy of the population, the distribution in this case would be normal as we would want people to survive for longer, but with a negative skew. "
   ]
  },
  {
   "cell_type": "markdown",
   "id": "f90599de",
   "metadata": {},
   "source": [
    "### Exercise 4: Computing & displaying the values of Range , Interquartile range & Standard Deviation "
   ]
  },
  {
   "cell_type": "code",
   "execution_count": 14,
   "id": "e0cdb90b",
   "metadata": {},
   "outputs": [
    {
     "name": "stdout",
     "output_type": "stream",
     "text": [
      "The value of range is 41.49999999999999\n"
     ]
    }
   ],
   "source": [
    "sorted_values = np.sort(np_1)\n",
    "#sorted_values\n",
    "range = sorted_values[len(sorted_values)-1] - sorted_values[0]\n",
    "range\n",
    "print(\"The value of range is\", range)"
   ]
  },
  {
   "cell_type": "code",
   "execution_count": 15,
   "id": "d64e1ab3",
   "metadata": {},
   "outputs": [
    {
     "name": "stdout",
     "output_type": "stream",
     "text": [
      "The value of q1 is 66.05\n",
      "The value of q3 is 77.7\n",
      "The value of standard deviation is 8.546790600519302\n"
     ]
    }
   ],
   "source": [
    "q3, q1 = np.percentile(sorted_values, [75 ,25])\n",
    "iqr = q3 - q1\n",
    "std = sorted_values.std()\n",
    "print (\"The value of q1 is\", q1)\n",
    "print(\"The value of q3 is\", q3)\n",
    "print(\"The value of standard deviation is\", std)"
   ]
  },
  {
   "cell_type": "code",
   "execution_count": 16,
   "id": "de568966",
   "metadata": {
    "scrolled": true
   },
   "outputs": [
    {
     "data": {
      "text/plain": [
       "Text(0, 0.5, '\\n Frequencies')"
      ]
     },
     "execution_count": 16,
     "metadata": {},
     "output_type": "execute_result"
    },
    {
     "data": {
      "image/png": "[encoded data removed]",
      "text/plain": [
       "<Figure size 432x288 with 1 Axes>"
      ]
     },
     "metadata": {
      "needs_background": "light"
     },
     "output_type": "display_data"
    }
   ],
   "source": [
    "result1 = plt.hist(np_1, bins=20, color='grey', edgecolor='k', alpha=0.45)\n",
    "\n",
    "mps = (mean+std) \n",
    "## print(\"Mean + standard deviation is\", mean + std)\n",
    "plt.axvline(mps, color='blue', linestyle='solid', linewidth=1, label='mean+std dev')\n",
    "plt.text(74,77.5,'mean + std dev',rotation=0, color='blue')\n",
    "plt.text(80,73,'79.73',rotation=0, color='blue')\n",
    "\n",
    "\n",
    "plt.axvline(q1, color='green', linestyle='dashed', linewidth=1, label='q1')\n",
    "plt.text(64,45,'q1',rotation=0, color='green')\n",
    "plt.text(63,40,'66.05',rotation=0, color='green')\n",
    "\n",
    "plt.axvline(q3, color='green', linestyle='dashed', linewidth=1, label='q2')\n",
    "plt.text(78,63,'q3',rotation=0, color='green')\n",
    "plt.text(78,59,'77.7',rotation=0, color='green')\n",
    "\n",
    "\n",
    "mns = (mean - std)\n",
    "## print('mean - std dev is', mns)\n",
    "plt.axvline(mns, color='orangered', linestyle='solid', linewidth=1, label='std deviation')\n",
    "plt.text(52,76,'mean - std dev',rotation=0, color='orangered')\n",
    "plt.text(58,72,'62.64',rotation=0, color='orangered')\n",
    "\n",
    "\n",
    "plt.title(\"Distribution of Life Expectancy for both sexes across countries\\n\")\n",
    "plt.xlabel(\"\\n Life Expectancy in Ages\")\n",
    "plt.ylabel(\"\\n Frequencies\")\n",
    "\n"
   ]
  },
  {
   "cell_type": "markdown",
   "id": "8f581862",
   "metadata": {},
   "source": [
    "### Exercise 5: "
   ]
  },
  {
   "cell_type": "markdown",
   "id": "484d493a",
   "metadata": {},
   "source": [
    "The data distribution for the population graph is a normal distribution as the random generated samples from the same array hold the central limit theorem which states that \"the distribution of sample means approximate a normal distribution as the sample size gets larger regardless of the population's distribution.\" \n",
    "\n"
   ]
  },
  {
   "cell_type": "markdown",
   "id": "e9bad9a1",
   "metadata": {},
   "source": [
    "Creating sample dataset from the np_1 array "
   ]
  },
  {
   "cell_type": "code",
   "execution_count": 17,
   "id": "32280a94",
   "metadata": {},
   "outputs": [],
   "source": [
    "np.random.seed(7) # used so that the dataset doesn't change\n",
    "new_sample_array = np.random.choice(np_1, size = 80, replace = False)"
   ]
  },
  {
   "cell_type": "code",
   "execution_count": 18,
   "id": "bc207e4f",
   "metadata": {
    "scrolled": true
   },
   "outputs": [
    {
     "name": "stdout",
     "output_type": "stream",
     "text": [
      "[80.1 56.5 71.4 81.1 75.3 83.3 80.2 58.9 82.8 74.2 75.2 79.  60.9 56.3\n",
      " 69.4 80.1 63.8 70.8 78.8 83.3 74.4 75.  76.1 73.  75.5 70.3 75.2 48.9\n",
      " 67.3 77.3 49.5 79.4 70.9 81.  70.7 57.4 72.7 74.9 74.4 72.7 72.5 79.1\n",
      " 83.3 77.8 72.4 75.1 61.6 75.9 76.1 74.8 75.6 66.  66.6 74.6 66.9 74.3\n",
      " 75.  53.8 73.4 81.2 58.  74.1 74.1 81.4 69.9 69.5 59.7 81.5 81.2 70.1\n",
      " 78.5 79.5 75.  56.7 70.8 78.2 70.7 66.5 82.4 60.1]\n"
     ]
    }
   ],
   "source": [
    "print(new_sample_array)"
   ]
  },
  {
   "cell_type": "code",
   "execution_count": 19,
   "id": "c53b95e5",
   "metadata": {},
   "outputs": [
    {
     "name": "stdout",
     "output_type": "stream",
     "text": [
      "72.14875\n"
     ]
    }
   ],
   "source": [
    "mean_random = new_sample_array.mean()\n",
    "print(mean_random)"
   ]
  },
  {
   "cell_type": "code",
   "execution_count": 20,
   "id": "b8cd7e4a",
   "metadata": {},
   "outputs": [
    {
     "name": "stdout",
     "output_type": "stream",
     "text": [
      "74.35\n"
     ]
    }
   ],
   "source": [
    "median_random = np.median(new_sample_array)\n",
    "print(median_random)"
   ]
  },
  {
   "cell_type": "code",
   "execution_count": 21,
   "id": "df6cc8c9",
   "metadata": {},
   "outputs": [
    {
     "name": "stdout",
     "output_type": "stream",
     "text": [
      "The value of q1 is 69.475\n",
      "The value of q3 is 78.275\n"
     ]
    }
   ],
   "source": [
    "sorted_values_random = np.sort(new_sample_array)\n",
    "q3, q1 = np.percentile(sorted_values_random, [75 ,25])\n",
    "iqr = q3 - q1\n",
    "std = sorted_values_random.std()\n",
    "print (\"The value of q1 is\", q1)\n",
    "print(\"The value of q3 is\", q3)\n"
   ]
  },
  {
   "cell_type": "code",
   "execution_count": 24,
   "id": "3e646a17",
   "metadata": {},
   "outputs": [
    {
     "data": {
      "text/plain": [
       "Text(0, 0.5, '\\n Frequencies')"
      ]
     },
     "execution_count": 24,
     "metadata": {},
     "output_type": "execute_result"
    },
    {
     "data": {
      "image/png": "[encoded data removed]",
      "text/plain": [
       "<Figure size 432x288 with 1 Axes>"
      ]
     },
     "metadata": {
      "needs_background": "light"
     },
     "output_type": "display_data"
    }
   ],
   "source": [
    "result2_random = plt.hist(new_sample_array, bins=20, color='grey', edgecolor='k', alpha=0.45)\n",
    "\n",
    "#plotting the mean line\n",
    "plt.axvline(mean_random, color='blue', linestyle='solid', linewidth=1, label='mean')\n",
    "plt.text(72,12,'mean',rotation=0, color='blue')\n",
    "plt.text(72,11,'72.15',rotation=0, color='blue')\n",
    "\n",
    "#plotting the 1st quartile \n",
    "plt.axvline(q1, color='green', linestyle='dashed', linewidth=1, label='q1')\n",
    "plt.text(68,10,'q1',rotation=0, color='green')\n",
    "plt.text(66,9,'69.48',rotation=0, color='green')\n",
    "\n",
    "#plotting the 2nd quartile \n",
    "plt.axvline(median_random, color='green', linestyle='dashed', linewidth=1, label='q2')\n",
    "plt.text(74.8,10,'q2',rotation=0, color='green')\n",
    "plt.text(74.8,9,'74.35',rotation=0, color='green')\n",
    "\n",
    "#plotting the 3rd quartile\n",
    "plt.axvline(q3, color='green', linestyle='dashed', linewidth=1, label='q3')\n",
    "plt.text(78.5,10,'q3',rotation=0, color='green')\n",
    "plt.text(78.5,9,'78.28',rotation=0, color='green')\n",
    "\n",
    "plt.title(\"Distribution of Random Sample data set: Life Expectancy for both sexes across countries\\n\")\n",
    "plt.xlabel(\"\\n Life expectancy in Ages\")\n",
    "plt.ylabel(\"\\n Frequencies\")\n",
    "\n"
   ]
  },
  {
   "cell_type": "code",
   "execution_count": null,
   "id": "7e0b1edb",
   "metadata": {},
   "outputs": [],
   "source": []
  },
  {
   "cell_type": "code",
   "execution_count": null,
   "id": "e4efa151",
   "metadata": {},
   "outputs": [],
   "source": []
  }
 ],
 "metadata": {
  "kernelspec": {
   "display_name": "Python 3 (ipykernel)",
   "language": "python",
   "name": "python3"
  },
  "language_info": {
   "codemirror_mode": {
    "name": "ipython",
    "version": 3
   },
   "file_extension": ".py",
   "mimetype": "text/x-python",
   "name": "python",
   "nbconvert_exporter": "python",
   "pygments_lexer": "ipython3",
   "version": "3.9.15"
  }
 },
 "nbformat": 4,
 "nbformat_minor": 5
}
