{
 "cells": [
  {
   "cell_type": "markdown",
   "id": "6ff1c59f",
   "metadata": {},
   "source": [
    "## Lab 2 : Applied Stats - Natisha Mallick EC22373"
   ]
  },
  {
   "cell_type": "markdown",
   "id": "f8e193a9",
   "metadata": {},
   "source": [
    "### Solution 1"
   ]
  },
  {
   "cell_type": "code",
   "execution_count": 30,
   "id": "a33621eb",
   "metadata": {},
   "outputs": [],
   "source": [
    "from scipy.stats import beta\n",
    "import matplotlib.pyplot as plt\n",
    "import numpy as np"
   ]
  },
  {
   "cell_type": "code",
   "execution_count": 31,
   "id": "548d9569",
   "metadata": {},
   "outputs": [],
   "source": [
    "def beta_measure(a,b):\n",
    "    return beta.cdf(b, 3, 7) - beta.cdf(a, 3,7)"
   ]
  },
  {
   "cell_type": "markdown",
   "id": "5f99b70c",
   "metadata": {},
   "source": [
    "#### a. Beta Measure (0,1)"
   ]
  },
  {
   "cell_type": "code",
   "execution_count": 32,
   "id": "25289c91",
   "metadata": {},
   "outputs": [
    {
     "data": {
      "text/plain": [
       "1.0"
      ]
     },
     "execution_count": 32,
     "metadata": {},
     "output_type": "execute_result"
    }
   ],
   "source": [
    "beta_measure(0,1)"
   ]
  },
  {
   "cell_type": "markdown",
   "id": "87d97573",
   "metadata": {},
   "source": [
    "#### b. Beta Measure (0,0)"
   ]
  },
  {
   "cell_type": "code",
   "execution_count": 33,
   "id": "ddc25423",
   "metadata": {},
   "outputs": [
    {
     "data": {
      "text/plain": [
       "0.0"
      ]
     },
     "execution_count": 33,
     "metadata": {},
     "output_type": "execute_result"
    }
   ],
   "source": [
    "beta_measure(0,0)"
   ]
  },
  {
   "cell_type": "markdown",
   "id": "958b392f",
   "metadata": {},
   "source": [
    "#### c. Beta Measure (0.25, 0.75) "
   ]
  },
  {
   "cell_type": "code",
   "execution_count": 34,
   "id": "fb89c1c3",
   "metadata": {},
   "outputs": [
    {
     "data": {
      "text/plain": [
       "0.599334716796875"
      ]
     },
     "execution_count": 34,
     "metadata": {},
     "output_type": "execute_result"
    }
   ],
   "source": [
    "beta_measure(0.25,0.75)"
   ]
  },
  {
   "cell_type": "markdown",
   "id": "75dead94",
   "metadata": {},
   "source": [
    "#### d. Beta Measure (0, 0.5)"
   ]
  },
  {
   "cell_type": "code",
   "execution_count": 35,
   "id": "75d0fb27",
   "metadata": {},
   "outputs": [
    {
     "data": {
      "text/plain": [
       "0.91015625"
      ]
     },
     "execution_count": 35,
     "metadata": {},
     "output_type": "execute_result"
    }
   ],
   "source": [
    "beta_measure(0,0.5)"
   ]
  },
  {
   "cell_type": "markdown",
   "id": "1a77a346",
   "metadata": {},
   "source": [
    "#### e. Beta Measure (0.5, 1)"
   ]
  },
  {
   "cell_type": "code",
   "execution_count": 36,
   "id": "ad24e1d1",
   "metadata": {},
   "outputs": [
    {
     "data": {
      "text/plain": [
       "0.08984375"
      ]
     },
     "execution_count": 36,
     "metadata": {},
     "output_type": "execute_result"
    }
   ],
   "source": [
    "beta_measure(0.5,1)"
   ]
  },
  {
   "cell_type": "markdown",
   "id": "0020d5dc",
   "metadata": {},
   "source": [
    "#### Plotting the graph \n"
   ]
  },
  {
   "cell_type": "code",
   "execution_count": 37,
   "id": "830d139e",
   "metadata": {},
   "outputs": [],
   "source": [
    "def pdf_plot(a,b):\n",
    "    x = np.linspace(a,b,1000)\n",
    "    y=beta.pdf(x,3,7)\n",
    "    plt.plot(x,y,'b')\n",
    "    plt.show()"
   ]
  },
  {
   "cell_type": "code",
   "execution_count": 38,
   "id": "558999a8",
   "metadata": {},
   "outputs": [
    {
     "data": {
      "image/png": "[encoded data removed]",
      "text/plain": [
       "<Figure size 432x288 with 1 Axes>"
      ]
     },
     "metadata": {
      "needs_background": "light"
     },
     "output_type": "display_data"
    }
   ],
   "source": [
    "a,b = 3,7\n",
    "x = np.linspace(beta.pdf(0,a,b), beta.ppf(1,a,b), 1000)\n",
    "\n",
    "plt.plot(x, beta.pdf(x,a,b),'black')\n",
    "plt.title(\"Beta Distribution\")\n",
    "plt.xlabel('Values')\n",
    "plt.ylabel('Probability')\n",
    "plt.show()"
   ]
  },
  {
   "cell_type": "markdown",
   "id": "5661912e",
   "metadata": {},
   "source": [
    "### Solution 2. "
   ]
  },
  {
   "cell_type": "markdown",
   "id": "67640ac1",
   "metadata": {},
   "source": [
    "#### a.  "
   ]
  },
  {
   "cell_type": "code",
   "execution_count": 39,
   "id": "a58fba36",
   "metadata": {},
   "outputs": [],
   "source": [
    "def beta_pdf(x):\n",
    "    return beta.pdf(x,3,7)\n",
    "    "
   ]
  },
  {
   "cell_type": "code",
   "execution_count": 40,
   "id": "10a808ad",
   "metadata": {},
   "outputs": [
    {
     "data": {
      "text/plain": [
       "(1.0, 1.1102230246251565e-14)"
      ]
     },
     "execution_count": 40,
     "metadata": {},
     "output_type": "execute_result"
    }
   ],
   "source": [
    "from scipy import integrate\n",
    "integrate.quad(beta_pdf, 0, 1)"
   ]
  },
  {
   "cell_type": "markdown",
   "id": "9c6ecabc",
   "metadata": {},
   "source": [
    "#### b. "
   ]
  },
  {
   "cell_type": "code",
   "execution_count": 41,
   "id": "3d18560e",
   "metadata": {},
   "outputs": [
    {
     "data": {
      "text/plain": [
       "(0.0, 0.0)"
      ]
     },
     "execution_count": 41,
     "metadata": {},
     "output_type": "execute_result"
    }
   ],
   "source": [
    "integrate.quad(beta_pdf, 0, 0)"
   ]
  },
  {
   "cell_type": "markdown",
   "id": "3b9f0d0c",
   "metadata": {},
   "source": [
    "### c."
   ]
  },
  {
   "cell_type": "code",
   "execution_count": 42,
   "id": "e75efc6d",
   "metadata": {},
   "outputs": [
    {
     "data": {
      "text/plain": [
       "(0.5993347167968751, 6.653952020450883e-15)"
      ]
     },
     "execution_count": 42,
     "metadata": {},
     "output_type": "execute_result"
    }
   ],
   "source": [
    "integrate.quad(beta_pdf, 1/4, 3/4)"
   ]
  },
  {
   "cell_type": "markdown",
   "id": "913da326",
   "metadata": {},
   "source": [
    "### d."
   ]
  },
  {
   "cell_type": "code",
   "execution_count": 43,
   "id": "5275d809",
   "metadata": {},
   "outputs": [
    {
     "data": {
      "text/plain": [
       "(0.9101562499999999, 1.01047642475649e-14)"
      ]
     },
     "execution_count": 43,
     "metadata": {},
     "output_type": "execute_result"
    }
   ],
   "source": [
    "integrate.quad(beta_pdf, 0, 1/2)"
   ]
  },
  {
   "cell_type": "markdown",
   "id": "a471aac9",
   "metadata": {},
   "source": [
    "### e."
   ]
  },
  {
   "cell_type": "code",
   "execution_count": 44,
   "id": "255c9a3a",
   "metadata": {},
   "outputs": [
    {
     "data": {
      "text/plain": [
       "(0.08984374999999997, 9.974659986866637e-16)"
      ]
     },
     "execution_count": 44,
     "metadata": {},
     "output_type": "execute_result"
    }
   ],
   "source": [
    "integrate.quad(beta_pdf, 1/2, 1)"
   ]
  },
  {
   "cell_type": "markdown",
   "id": "63ca0494",
   "metadata": {},
   "source": [
    "The values in the present question are same as the ones calculated in the previous question. \n",
    "As when we integrate pdf we get the values of cdf. "
   ]
  },
  {
   "cell_type": "markdown",
   "id": "2a90dd1c",
   "metadata": {},
   "source": [
    "### Solution 3. "
   ]
  },
  {
   "cell_type": "markdown",
   "id": "1ff0cd51",
   "metadata": {},
   "source": [
    "##### f1(x) at 3,7"
   ]
  },
  {
   "cell_type": "code",
   "execution_count": 45,
   "id": "77717677",
   "metadata": {},
   "outputs": [
    {
     "data": {
      "text/plain": [
       "(1.0, 5.956796860250454e-11)"
      ]
     },
     "execution_count": 45,
     "metadata": {},
     "output_type": "execute_result"
    }
   ],
   "source": [
    "import scipy.integrate as integrate\n",
    "a, b = 3, 7\n",
    "x = np.linspace(beta.ppf(0, a, b),beta.ppf(1, a, b), 10000)\n",
    "x2 = lambda x: beta.pdf(x,a,b)\n",
    "integrate.quad(x2, -np.inf, np.inf)\n"
   ]
  },
  {
   "cell_type": "markdown",
   "id": "c22d84a8",
   "metadata": {},
   "source": [
    "The support for f(x) at 3, 7 is 1 "
   ]
  },
  {
   "cell_type": "markdown",
   "id": "e3bbad39",
   "metadata": {},
   "source": [
    "#### f2(t-x) at 7,3\n"
   ]
  },
  {
   "cell_type": "code",
   "execution_count": 46,
   "id": "d675e3e0",
   "metadata": {},
   "outputs": [
    {
     "data": {
      "text/plain": [
       "(1.0000000000000002, 4.725938060548429e-10)"
      ]
     },
     "execution_count": 46,
     "metadata": {},
     "output_type": "execute_result"
    }
   ],
   "source": [
    "a, b = 7, 3\n",
    "x = np.linspace(beta.ppf(0, a, b),beta.ppf(1, a, b), 10000)\n",
    "x2 = lambda x: beta.pdf(x,a,b)\n",
    "integrate.quad(x2, -np.inf, np.inf)\n"
   ]
  },
  {
   "cell_type": "markdown",
   "id": "4a7dc0c5",
   "metadata": {},
   "source": [
    "The support for f(t-x) at 7,3 is 1 "
   ]
  },
  {
   "cell_type": "markdown",
   "id": "42681cc6",
   "metadata": {},
   "source": [
    "##### The support for f(x) + f(t-x) is 2 "
   ]
  },
  {
   "cell_type": "code",
   "execution_count": 47,
   "id": "47381e43",
   "metadata": {},
   "outputs": [],
   "source": [
    "import numpy as np\n",
    "import pandas as pd"
   ]
  },
  {
   "cell_type": "code",
   "execution_count": 48,
   "id": "39a14ef2",
   "metadata": {},
   "outputs": [],
   "source": [
    "def function(x,t): \n",
    "  a,b = 3,7\n",
    "  return beta.pdf(x,3,7)*(beta.pdf(t-x,7,3))"
   ]
  },
  {
   "cell_type": "code",
   "execution_count": 49,
   "id": "7d4c64e1",
   "metadata": {},
   "outputs": [],
   "source": [
    "x = np.linspace(0,2,100)\n"
   ]
  },
  {
   "cell_type": "code",
   "execution_count": 50,
   "id": "e7c53842",
   "metadata": {},
   "outputs": [],
   "source": [
    "array = []"
   ]
  },
  {
   "cell_type": "code",
   "execution_count": 51,
   "id": "779da76a",
   "metadata": {
    "scrolled": true
   },
   "outputs": [
    {
     "name": "stdout",
     "output_type": "stream",
     "text": [
      "[0.43383333 0.45336647 0.36043081 ... 0.15416846 0.29013079 0.29592967]\n",
      "[0.58999077 0.78074923 0.90026827 ... 0.59700407 0.70976652 0.69095595]\n"
     ]
    },
    {
     "data": {
      "image/png": "[encoded data removed]",
      "text/plain": [
       "<Figure size 432x288 with 1 Axes>"
      ]
     },
     "metadata": {
      "needs_background": "light"
     },
     "output_type": "display_data"
    }
   ],
   "source": [
    "for i in x:\n",
    "  array.append(integrate.quad(function,-np.inf,np.inf, args=(i,))[0])\n",
    "plt.plot(x,array)\n",
    "\n",
    "x1 = beta.rvs(3,7, size = 10000)\n",
    "print(x1)\n",
    "y1 = beta.rvs(7,3, size = 10000)\n",
    "print(y1)\n",
    "\n",
    "\n",
    "z = x1 + y1\n",
    "# z = pd.DataFrame(z)\n",
    "\n",
    "plt.hist(z,bins='auto',density=True)\n",
    "plt.show()"
   ]
  },
  {
   "cell_type": "markdown",
   "id": "6c03280b",
   "metadata": {},
   "source": [
    "The distribution is Gaussian "
   ]
  },
  {
   "cell_type": "markdown",
   "id": "2eba61f3",
   "metadata": {},
   "source": [
    "###  Solution 4."
   ]
  },
  {
   "cell_type": "code",
   "execution_count": 52,
   "id": "41f00ced",
   "metadata": {},
   "outputs": [
    {
     "name": "stdout",
     "output_type": "stream",
     "text": [
      "Requirement already satisfied: pandas-datareader in c:\\users\\natisha\\anaconda3\\lib\\site-packages (0.10.0)\n",
      "Requirement already satisfied: requests>=2.19.0 in c:\\users\\natisha\\anaconda3\\lib\\site-packages (from pandas-datareader) (2.27.1)\n",
      "Requirement already satisfied: pandas>=0.23 in c:\\users\\natisha\\anaconda3\\lib\\site-packages (from pandas-datareader) (1.4.2)\n",
      "Requirement already satisfied: lxml in c:\\users\\natisha\\anaconda3\\lib\\site-packages (from pandas-datareader) (4.8.0)\n",
      "Requirement already satisfied: numpy>=1.18.5 in c:\\users\\natisha\\anaconda3\\lib\\site-packages (from pandas>=0.23->pandas-datareader) (1.21.5)\n",
      "Requirement already satisfied: pytz>=2020.1 in c:\\users\\natisha\\anaconda3\\lib\\site-packages (from pandas>=0.23->pandas-datareader) (2021.3)\n",
      "Requirement already satisfied: python-dateutil>=2.8.1 in c:\\users\\natisha\\anaconda3\\lib\\site-packages (from pandas>=0.23->pandas-datareader) (2.8.2)\n",
      "Requirement already satisfied: six>=1.5 in c:\\users\\natisha\\anaconda3\\lib\\site-packages (from python-dateutil>=2.8.1->pandas>=0.23->pandas-datareader) (1.16.0)\n",
      "Requirement already satisfied: idna<4,>=2.5 in c:\\users\\natisha\\anaconda3\\lib\\site-packages (from requests>=2.19.0->pandas-datareader) (3.3)\n",
      "Requirement already satisfied: charset-normalizer~=2.0.0 in c:\\users\\natisha\\anaconda3\\lib\\site-packages (from requests>=2.19.0->pandas-datareader) (2.0.4)\n",
      "Requirement already satisfied: certifi>=2017.4.17 in c:\\users\\natisha\\anaconda3\\lib\\site-packages (from requests>=2.19.0->pandas-datareader) (2021.10.8)\n",
      "Requirement already satisfied: urllib3<1.27,>=1.21.1 in c:\\users\\natisha\\anaconda3\\lib\\site-packages (from requests>=2.19.0->pandas-datareader) (1.26.9)\n",
      "Note: you may need to restart the kernel to use updated packages.\n"
     ]
    }
   ],
   "source": [
    "pip install pandas-datareader"
   ]
  },
  {
   "cell_type": "code",
   "execution_count": 53,
   "id": "6447a2d4",
   "metadata": {},
   "outputs": [
    {
     "data": {
      "text/html": [
       "<div>\n",
       "<style scoped>\n",
       "    .dataframe tbody tr th:only-of-type {\n",
       "        vertical-align: middle;\n",
       "    }\n",
       "\n",
       "    .dataframe tbody tr th {\n",
       "        vertical-align: top;\n",
       "    }\n",
       "\n",
       "    .dataframe thead th {\n",
       "        text-align: right;\n",
       "    }\n",
       "</style>\n",
       "<table border=\"1\" class=\"dataframe\">\n",
       "  <thead>\n",
       "    <tr style=\"text-align: right;\">\n",
       "      <th></th>\n",
       "      <th>High</th>\n",
       "      <th>Low</th>\n",
       "      <th>Open</th>\n",
       "      <th>Close</th>\n",
       "      <th>Volume</th>\n",
       "      <th>Adj Close</th>\n",
       "    </tr>\n",
       "    <tr>\n",
       "      <th>Date</th>\n",
       "      <th></th>\n",
       "      <th></th>\n",
       "      <th></th>\n",
       "      <th></th>\n",
       "      <th></th>\n",
       "      <th></th>\n",
       "    </tr>\n",
       "  </thead>\n",
       "  <tbody>\n",
       "    <tr>\n",
       "      <th>2012-11-02</th>\n",
       "      <td>29.770000</td>\n",
       "      <td>29.330000</td>\n",
       "      <td>29.590000</td>\n",
       "      <td>29.500000</td>\n",
       "      <td>57131600.0</td>\n",
       "      <td>24.194620</td>\n",
       "    </tr>\n",
       "    <tr>\n",
       "      <th>2012-11-05</th>\n",
       "      <td>29.740000</td>\n",
       "      <td>29.330000</td>\n",
       "      <td>29.620001</td>\n",
       "      <td>29.629999</td>\n",
       "      <td>38070800.0</td>\n",
       "      <td>24.301243</td>\n",
       "    </tr>\n",
       "    <tr>\n",
       "      <th>2012-11-06</th>\n",
       "      <td>30.200001</td>\n",
       "      <td>29.610001</td>\n",
       "      <td>29.820000</td>\n",
       "      <td>29.860001</td>\n",
       "      <td>43401500.0</td>\n",
       "      <td>24.489876</td>\n",
       "    </tr>\n",
       "    <tr>\n",
       "      <th>2012-11-07</th>\n",
       "      <td>29.830000</td>\n",
       "      <td>29.049999</td>\n",
       "      <td>29.530001</td>\n",
       "      <td>29.080000</td>\n",
       "      <td>57871800.0</td>\n",
       "      <td>23.850149</td>\n",
       "    </tr>\n",
       "    <tr>\n",
       "      <th>2012-11-08</th>\n",
       "      <td>29.370001</td>\n",
       "      <td>28.799999</td>\n",
       "      <td>29.120001</td>\n",
       "      <td>28.809999</td>\n",
       "      <td>49841800.0</td>\n",
       "      <td>23.628719</td>\n",
       "    </tr>\n",
       "    <tr>\n",
       "      <th>...</th>\n",
       "      <td>...</td>\n",
       "      <td>...</td>\n",
       "      <td>...</td>\n",
       "      <td>...</td>\n",
       "      <td>...</td>\n",
       "      <td>...</td>\n",
       "    </tr>\n",
       "    <tr>\n",
       "      <th>2022-10-27</th>\n",
       "      <td>233.690002</td>\n",
       "      <td>225.779999</td>\n",
       "      <td>231.039993</td>\n",
       "      <td>226.750000</td>\n",
       "      <td>40424600.0</td>\n",
       "      <td>226.750000</td>\n",
       "    </tr>\n",
       "    <tr>\n",
       "      <th>2022-10-28</th>\n",
       "      <td>236.600006</td>\n",
       "      <td>226.050003</td>\n",
       "      <td>226.240005</td>\n",
       "      <td>235.869995</td>\n",
       "      <td>40647700.0</td>\n",
       "      <td>235.869995</td>\n",
       "    </tr>\n",
       "    <tr>\n",
       "      <th>2022-10-31</th>\n",
       "      <td>234.919998</td>\n",
       "      <td>231.149994</td>\n",
       "      <td>233.759995</td>\n",
       "      <td>232.130005</td>\n",
       "      <td>28357300.0</td>\n",
       "      <td>232.130005</td>\n",
       "    </tr>\n",
       "    <tr>\n",
       "      <th>2022-11-01</th>\n",
       "      <td>235.740005</td>\n",
       "      <td>227.330002</td>\n",
       "      <td>234.600006</td>\n",
       "      <td>228.169998</td>\n",
       "      <td>30592300.0</td>\n",
       "      <td>228.169998</td>\n",
       "    </tr>\n",
       "    <tr>\n",
       "      <th>2022-11-02</th>\n",
       "      <td>231.300003</td>\n",
       "      <td>220.039993</td>\n",
       "      <td>229.460007</td>\n",
       "      <td>220.100006</td>\n",
       "      <td>38407000.0</td>\n",
       "      <td>220.100006</td>\n",
       "    </tr>\n",
       "  </tbody>\n",
       "</table>\n",
       "<p>2518 rows × 6 columns</p>\n",
       "</div>"
      ],
      "text/plain": [
       "                  High         Low        Open       Close      Volume  \\\n",
       "Date                                                                     \n",
       "2012-11-02   29.770000   29.330000   29.590000   29.500000  57131600.0   \n",
       "2012-11-05   29.740000   29.330000   29.620001   29.629999  38070800.0   \n",
       "2012-11-06   30.200001   29.610001   29.820000   29.860001  43401500.0   \n",
       "2012-11-07   29.830000   29.049999   29.530001   29.080000  57871800.0   \n",
       "2012-11-08   29.370001   28.799999   29.120001   28.809999  49841800.0   \n",
       "...                ...         ...         ...         ...         ...   \n",
       "2022-10-27  233.690002  225.779999  231.039993  226.750000  40424600.0   \n",
       "2022-10-28  236.600006  226.050003  226.240005  235.869995  40647700.0   \n",
       "2022-10-31  234.919998  231.149994  233.759995  232.130005  28357300.0   \n",
       "2022-11-01  235.740005  227.330002  234.600006  228.169998  30592300.0   \n",
       "2022-11-02  231.300003  220.039993  229.460007  220.100006  38407000.0   \n",
       "\n",
       "             Adj Close  \n",
       "Date                    \n",
       "2012-11-02   24.194620  \n",
       "2012-11-05   24.301243  \n",
       "2012-11-06   24.489876  \n",
       "2012-11-07   23.850149  \n",
       "2012-11-08   23.628719  \n",
       "...                ...  \n",
       "2022-10-27  226.750000  \n",
       "2022-10-28  235.869995  \n",
       "2022-10-31  232.130005  \n",
       "2022-11-01  228.169998  \n",
       "2022-11-02  220.100006  \n",
       "\n",
       "[2518 rows x 6 columns]"
      ]
     },
     "execution_count": 53,
     "metadata": {},
     "output_type": "execute_result"
    }
   ],
   "source": [
    "import pandas as pd \n",
    "from pandas_datareader import data as pdr\n",
    "import pandas_datareader as pdr\n",
    "my_data =pdr.get_data_yahoo('MSFT','2012-11-02', '2022-11-02' )\n",
    "my_data"
   ]
  },
  {
   "cell_type": "code",
   "execution_count": 54,
   "id": "b5459e78",
   "metadata": {},
   "outputs": [
    {
     "data": {
      "text/plain": [
       "array([ 29.5       ,  29.62999916,  29.86000061, ..., 232.13000488,\n",
       "       228.16999817, 220.1000061 ])"
      ]
     },
     "execution_count": 54,
     "metadata": {},
     "output_type": "execute_result"
    }
   ],
   "source": [
    "import numpy as np\n",
    "my_data1 = np.array(my_data['Close'])\n",
    "\n",
    "my_data1"
   ]
  },
  {
   "cell_type": "code",
   "execution_count": 55,
   "id": "0e75b492",
   "metadata": {},
   "outputs": [
    {
     "data": {
      "text/plain": [
       "2517"
      ]
     },
     "execution_count": 55,
     "metadata": {},
     "output_type": "execute_result"
    }
   ],
   "source": [
    "result =[]\n",
    "\n",
    "for i in range (2517): \n",
    "    Return_t = 100 * ((my_data1[i+1]/my_data1[i]-1))\n",
    "    result.append(Return_t)\n",
    "\n",
    "len(result)"
   ]
  },
  {
   "cell_type": "code",
   "execution_count": 56,
   "id": "07ef1976",
   "metadata": {
    "scrolled": true
   },
   "outputs": [
    {
     "data": {
      "text/plain": [
       "(array([  1.,   0.,   0.,   0.,   0.,   1.,   0.,   0.,   0.,   2.,   0.,\n",
       "          0.,   1.,   3.,   1.,   2.,   7.,   9.,  25.,  28.,  49.,  54.,\n",
       "        124., 239., 385., 538., 397., 286., 150., 105.,  45.,  25.,  12.,\n",
       "          6.,   2.,   5.,   4.,   3.,   3.,   1.,   0.,   1.,   1.,   1.,\n",
       "          0.,   0.,   0.,   0.,   0.,   1.]),\n",
       " array([-14.73903129, -14.1599129 , -13.58079451, -13.00167612,\n",
       "        -12.42255773, -11.84343935, -11.26432096, -10.68520257,\n",
       "        -10.10608418,  -9.52696579,  -8.94784741,  -8.36872902,\n",
       "         -7.78961063,  -7.21049224,  -6.63137385,  -6.05225546,\n",
       "         -5.47313708,  -4.89401869,  -4.3149003 ,  -3.73578191,\n",
       "         -3.15666352,  -2.57754514,  -1.99842675,  -1.41930836,\n",
       "         -0.84018997,  -0.26107158,   0.3180468 ,   0.89716519,\n",
       "          1.47628358,   2.05540197,   2.63452036,   3.21363875,\n",
       "          3.79275713,   4.37187552,   4.95099391,   5.5301123 ,\n",
       "          6.10923069,   6.68834907,   7.26746746,   7.84658585,\n",
       "          8.42570424,   9.00482263,   9.58394101,  10.1630594 ,\n",
       "         10.74217779,  11.32129618,  11.90041457,  12.47953296,\n",
       "         13.05865134,  13.63776973,  14.21688812]),\n",
       " <BarContainer object of 50 artists>)"
      ]
     },
     "execution_count": 56,
     "metadata": {},
     "output_type": "execute_result"
    },
    {
     "data": {
      "image/png": "[encoded data removed]",
      "text/plain": [
       "<Figure size 432x288 with 1 Axes>"
      ]
     },
     "metadata": {
      "needs_background": "light"
     },
     "output_type": "display_data"
    }
   ],
   "source": [
    "import matplotlib.pyplot as plt \n",
    "plt.hist(result, bins = 50)"
   ]
  },
  {
   "cell_type": "markdown",
   "id": "5ea59a8f",
   "metadata": {},
   "source": [
    "The distribution is Normal - gaussian "
   ]
  },
  {
   "cell_type": "code",
   "execution_count": 57,
   "id": "8ef9bd0f",
   "metadata": {},
   "outputs": [],
   "source": [
    "from scipy.stats import norm"
   ]
  },
  {
   "cell_type": "code",
   "execution_count": 58,
   "id": "886e5d6d",
   "metadata": {},
   "outputs": [
    {
     "data": {
      "image/png": "[encoded data removed]",
      "text/plain": [
       "<Figure size 432x288 with 1 Axes>"
      ]
     },
     "metadata": {
      "needs_background": "light"
     },
     "output_type": "display_data"
    },
    {
     "data": {
      "image/png": "[encoded data removed]",
      "text/plain": [
       "<Figure size 432x288 with 1 Axes>"
      ]
     },
     "metadata": {
      "needs_background": "light"
     },
     "output_type": "display_data"
    }
   ],
   "source": [
    "plt.hist(result, bins = \"auto\", density=True)\n",
    "x1, x2 = norm.fit(result)\n",
    "y1 = np.linspace(min(result), max(result), 2517)\n",
    "norm_pdf =norm.pdf(y1,x1,x2)\n",
    "plt.plot(y1, norm_pdf)\n",
    "plt.show()\n",
    "\n",
    "norm_pdf_sorted = np.sort(norm_pdf)\n",
    "sorted_return = np.sort(np.array(result))\n",
    "\n",
    "plt.xlabel('')\n",
    "plt.ylabel('')\n",
    "plt.scatter(sorted_return,norm_pdf_sorted)\n",
    "plt.show()\n"
   ]
  },
  {
   "cell_type": "markdown",
   "id": "5a8a7d43",
   "metadata": {},
   "source": [
    "#### From the above Q-Q plot it is apparent that the distribution is normal with high kurtosis. "
   ]
  }
 ],
 "metadata": {
  "kernelspec": {
   "display_name": "Python 3 (ipykernel)",
   "language": "python",
   "name": "python3"
  },
  "language_info": {
   "codemirror_mode": {
    "name": "ipython",
    "version": 3
   },
   "file_extension": ".py",
   "mimetype": "text/x-python",
   "name": "python",
   "nbconvert_exporter": "python",
   "pygments_lexer": "ipython3",
   "version": "3.9.15"
  }
 },
 "nbformat": 4,
 "nbformat_minor": 5
}
